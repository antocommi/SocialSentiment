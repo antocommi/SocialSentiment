{
  "nbformat": 4,
  "nbformat_minor": 0,
  "metadata": {
    "colab": {
      "name": "sentimentAnalysisReddit.ipynb",
      "provenance": [],
      "collapsed_sections": [],
      "include_colab_link": true
    },
    "kernelspec": {
      "display_name": "Python 3",
      "name": "python3"
    },
    "language_info": {
      "name": "python"
    }
  },
  "cells": [
    {
      "cell_type": "markdown",
      "metadata": {
        "id": "view-in-github",
        "colab_type": "text"
      },
      "source": [
        "<a href=\"https://colab.research.google.com/github/antocommi/SocialSentiment/blob/main/sentimentAnalysisReddit.ipynb\" target=\"_parent\"><img src=\"https://colab.research.google.com/assets/colab-badge.svg\" alt=\"Open In Colab\"/></a>"
      ]
    },
    {
      "cell_type": "code",
      "metadata": {
        "id": "Q9E5q1XNydNk"
      },
      "source": [
        "# Sentiment analysis on reddit comments\n",
        "# \n",
        "# "
      ],
      "execution_count": null,
      "outputs": []
    },
    {
      "cell_type": "code",
      "metadata": {
        "colab": {
          "base_uri": "https://localhost:8080/"
        },
        "id": "ArJNRQSM9MrV",
        "outputId": "3f5b7b0d-f3ae-4318-e81d-4a58e220e990"
      },
      "source": [
        "!pip install praw"
      ],
      "execution_count": null,
      "outputs": [
        {
          "name": "stdout",
          "output_type": "stream",
          "text": [
            "Collecting praw\n",
            "  Downloading praw-7.4.0-py3-none-any.whl (167 kB)\n",
            "\u001b[K     |████████████████████████████████| 167 kB 4.2 MB/s \n",
            "\u001b[?25hCollecting update-checker>=0.18\n",
            "  Downloading update_checker-0.18.0-py3-none-any.whl (7.0 kB)\n",
            "Collecting websocket-client>=0.54.0\n",
            "  Downloading websocket_client-1.2.1-py2.py3-none-any.whl (52 kB)\n",
            "\u001b[K     |████████████████████████████████| 52 kB 1.5 MB/s \n",
            "\u001b[?25hCollecting prawcore<3,>=2.1\n",
            "  Downloading prawcore-2.3.0-py3-none-any.whl (16 kB)\n",
            "Requirement already satisfied: requests<3.0,>=2.6.0 in /usr/local/lib/python3.7/dist-packages (from prawcore<3,>=2.1->praw) (2.23.0)\n",
            "Requirement already satisfied: urllib3!=1.25.0,!=1.25.1,<1.26,>=1.21.1 in /usr/local/lib/python3.7/dist-packages (from requests<3.0,>=2.6.0->prawcore<3,>=2.1->praw) (1.24.3)\n",
            "Requirement already satisfied: certifi>=2017.4.17 in /usr/local/lib/python3.7/dist-packages (from requests<3.0,>=2.6.0->prawcore<3,>=2.1->praw) (2021.5.30)\n",
            "Requirement already satisfied: idna<3,>=2.5 in /usr/local/lib/python3.7/dist-packages (from requests<3.0,>=2.6.0->prawcore<3,>=2.1->praw) (2.10)\n",
            "Requirement already satisfied: chardet<4,>=3.0.2 in /usr/local/lib/python3.7/dist-packages (from requests<3.0,>=2.6.0->prawcore<3,>=2.1->praw) (3.0.4)\n",
            "Installing collected packages: websocket-client, update-checker, prawcore, praw\n",
            "Successfully installed praw-7.4.0 prawcore-2.3.0 update-checker-0.18.0 websocket-client-1.2.1\n"
          ]
        }
      ]
    },
    {
      "cell_type": "code",
      "metadata": {
        "colab": {
          "base_uri": "https://localhost:8080/"
        },
        "id": "etmt3flLHS6x",
        "outputId": "2754b904-8c56-467e-ba9f-fcf7bc76d8a0"
      },
      "source": [
        "# -------- essential libraries -------- #\n",
        "\n",
        "import nltk\n",
        "import praw\n",
        "from IPython import display\n",
        "import math\n",
        "import pandas as pd\n",
        "import numpy as np\n",
        "import matplotlib.pyplot as plt\n",
        "import seaborn as sns\n",
        "from textblob import TextBlob\n",
        "from tqdm import tqdm\n",
        "\n",
        "# -------- other tools -------- #\n",
        "\n",
        "nltk.download('vader_lexicon')"
      ],
      "execution_count": null,
      "outputs": [
        {
          "name": "stdout",
          "output_type": "stream",
          "text": [
            "[nltk_data] Downloading package vader_lexicon to /root/nltk_data...\n"
          ]
        },
        {
          "data": {
            "text/plain": [
              "True"
            ]
          },
          "execution_count": 2,
          "metadata": {},
          "output_type": "execute_result"
        }
      ]
    },
    {
      "cell_type": "code",
      "metadata": {
        "colab": {
          "base_uri": "https://localhost:8080/"
        },
        "id": "6qI20fbLBHgN",
        "outputId": "baa82cc9-9a43-4ab2-ade9-3704e3d39d06"
      },
      "source": [
        "from google.colab import drive\n",
        "drive.mount('/content/drive')"
      ],
      "execution_count": null,
      "outputs": [
        {
          "name": "stdout",
          "output_type": "stream",
          "text": [
            "Go to this URL in a browser: https://accounts.google.com/o/oauth2/auth?client_id=947318989803-6bn6qk8qdgf4n4g3pfee6491hc0brc4i.apps.googleusercontent.com&redirect_uri=urn%3aietf%3awg%3aoauth%3a2.0%3aoob&scope=email%20https%3a%2f%2fwww.googleapis.com%2fauth%2fdocs.test%20https%3a%2f%2fwww.googleapis.com%2fauth%2fdrive%20https%3a%2f%2fwww.googleapis.com%2fauth%2fdrive.photos.readonly%20https%3a%2f%2fwww.googleapis.com%2fauth%2fpeopleapi.readonly%20https%3a%2f%2fwww.googleapis.com%2fauth%2fdrive.activity.readonly%20https%3a%2f%2fwww.googleapis.com%2fauth%2fexperimentsandconfigs%20https%3a%2f%2fwww.googleapis.com%2fauth%2fphotos.native&response_type=code\n",
            "\n",
            "Enter your authorization code:\n",
            "4/1AX4XfWjldQvUAN6QH196x98MKIWJMZ3GlUa75RupNGsLRtRmy9reeOmlLZc\n",
            "Mounted at /content/drive\n"
          ]
        }
      ]
    },
    {
      "cell_type": "code",
      "metadata": {
        "id": "bNm7tJ_NDNKI"
      },
      "source": [
        "working_dir = \"content/drive/MyDrive/\""
      ],
      "execution_count": null,
      "outputs": []
    },
    {
      "cell_type": "code",
      "metadata": {
        "id": "FUMGCFpf-shL"
      },
      "source": [
        "reddit = praw.Reddit(client_id = \"buUa5X-J6GldgC-WrJtQpg\", #peronal use script\n",
        "                    client_secret = \"YIyh5fE-VnuYB6HqOA-hfcZg6RTXEA\", #secret token\n",
        "                    usernme = \"anto_nella95\", #profile username\n",
        "                    password = \"jygxa2-Rawqyz-qazfoq\", #profile password\n",
        "                    user_agent = \"progSN\",\n",
        "                    check_for_async=False)"
      ],
      "execution_count": null,
      "outputs": []
    },
    {
      "cell_type": "code",
      "metadata": {
        "id": "PzGmm96MNUKD"
      },
      "source": [
        "r_list = [ 'breakups']"
      ],
      "execution_count": null,
      "outputs": []
    },
    {
      "cell_type": "code",
      "metadata": {
        "colab": {
          "background_save": true,
          "base_uri": "https://localhost:8080/"
        },
        "id": "fnmW8t8xNchY",
        "outputId": "74069559-ace0-43e5-d318-8b4c84e5d098"
      },
      "source": [
        "comments  =     []\n",
        "author    =     []\n",
        "time      =     []\n",
        "score     =     []\n",
        "\n",
        "for subred in r_list:\n",
        "    hot_post = reddit.subreddit(subred).hot(limit=500)\n",
        "    for sub in tqdm(hot_post):\n",
        "        comments.append(sub.title)\n",
        "        author.append(sub.author)\n",
        "        time.append(int(sub.created_utc))\n",
        "        score.append(sub.score)\n",
        "        sub.comments.replace_more()\n",
        "        for comment in sub.comments:\n",
        "            comments.append(comment.body)\n",
        "            author.append(comment.author)\n",
        "            time.append(int(comment.created_utc))\n",
        "            score.append(comment.score)"
      ],
      "execution_count": null,
      "outputs": [
        {
          "name": "stderr",
          "output_type": "stream",
          "text": [
            "500it [13:16,  1.59s/it]\n"
          ]
        }
      ]
    },
    {
      "cell_type": "code",
      "metadata": {
        "colab": {
          "base_uri": "https://localhost:8080/"
        },
        "id": "e7hOt2BqgZDH",
        "outputId": "ba25dc8b-90eb-4355-95f4-41bcee51791f"
      },
      "source": [
        "len(comments)"
      ],
      "execution_count": null,
      "outputs": [
        {
          "data": {
            "text/plain": [
              "14689"
            ]
          },
          "execution_count": 8,
          "metadata": {},
          "output_type": "execute_result"
        }
      ]
    },
    {
      "cell_type": "code",
      "metadata": {
        "id": "ywweNFEAIUmY"
      },
      "source": [
        "df = pd.DataFrame({'Author':author,\n",
        "                   'Comment' : comments,\n",
        "                   'Time' : time,\n",
        "                   'Score': score\n",
        "                  })\n",
        "\n",
        "df.to_csv('drive/MyDrive/reddit_dataset.csv', index = False)"
      ],
      "execution_count": null,
      "outputs": []
    },
    {
      "cell_type": "code",
      "metadata": {
        "colab": {
          "background_save": true
        },
        "id": "RPdSRQWyYZ2W"
      },
      "source": [
        "from datetime import datetime\n",
        "df.Time = df.Time.apply(lambda b: datetime.fromtimestamp(b).strftime(\"%Y-%m-%d  %H:%M\"))"
      ],
      "execution_count": null,
      "outputs": []
    },
    {
      "cell_type": "markdown",
      "metadata": {
        "id": "s6YluRzzZTj9"
      },
      "source": [
        "Come si evince sopra, il DataFrame è caratterizzato da 4 Attributi:\n",
        "\n",
        "**Author** = nickname dell'utente su Reddit \n",
        "\n",
        "**Comment** = testo scritto\n",
        "\n",
        "**Time** = data e ora del commento\n",
        "\n",
        "**Score** = valore numerico che esprime quanto quel commento sia apprezzato o meno dai vari utenti di Reddit"
      ]
    },
    {
      "cell_type": "code",
      "metadata": {
        "id": "Oojmjl04ZYuh"
      },
      "source": [
        ""
      ],
      "execution_count": null,
      "outputs": []
    }
  ]
}